{
 "cells": [
  {
   "cell_type": "markdown",
   "id": "d60d0ccc-55d0-46c6-93e2-2adede2e9f7f",
   "metadata": {},
   "source": [
    "## CEWA 568 Snow Hydrology \n",
    "### HW #1\n",
    "#### Cassie Lumbrazo"
   ]
  },
  {
   "cell_type": "code",
   "execution_count": 1,
   "id": "b3f6d0df-d23f-4cb7-8c7c-0dad9c83321e",
   "metadata": {},
   "outputs": [],
   "source": [
    "import numpy as np\n",
    "import pandas as pd\n",
    "import scipy.stats as stats\n",
    "import matplotlib.pyplot as plt\n",
    "%matplotlib inline"
   ]
  },
  {
   "cell_type": "markdown",
   "id": "f3beb5ac-2132-48bc-9058-76a816cc88de",
   "metadata": {},
   "source": [
    "For this week's homework, we will pretend we are in very controlled laboratory conditions. If you dislike python, these questions can all be answered with pencil, paper, and a calculator, but you may want to use this exercise as a chance to practice your programming skills."
   ]
  },
  {
   "cell_type": "code",
   "execution_count": 2,
   "id": "e086721d-fcbf-419a-acc3-5b7665bbc5f3",
   "metadata": {},
   "outputs": [],
   "source": [
    "# First, let's consider the basic thermodynamics of heating water, ice, and air, without phase changes.\n",
    "# The following are defined at 1 atmosphere of pressure.\n",
    "c_p_water = 4.2   #kJ K-1 kg-1\n",
    "c_p_ice   = 2.1   #kJ K-1 kg-1\n",
    "c_p_air   = 1.0   #kJ K-1 kg-1, note that this changes a lot with volume and pressure, we will neglect this for now\n",
    "\n",
    "# latent heat of fusion for the ice-water transition\n",
    "L_f = 334 #kJ/kg\n",
    "\n",
    "# latent heat of vaporization for the water-vapor transition (evaporation)\n",
    "L_v = 2256 #kJ/kg\n",
    "\n",
    "# latent heat of vaporization for the ice-vapor transition (sublimation)\n",
    "L_s = L_f + L_v #kJ/kg"
   ]
  },
  {
   "cell_type": "markdown",
   "id": "1d2e9cc2-09bc-46b6-a5b3-bfdda94cd46b",
   "metadata": {},
   "source": [
    "### A. Imagine you have a 1 cubic centimeter block of ice at -10 degrees C and 1 atm of pressure. Calculate the amount of energy required to melt all of the ice. (Note that you will have to warm it to 0 degrees C before you begin melting it.)"
   ]
  },
  {
   "cell_type": "code",
   "execution_count": 3,
   "id": "2f2e9e67-7c23-45db-ab7e-d58c49555d80",
   "metadata": {},
   "outputs": [
    {
     "name": "stdout",
     "output_type": "stream",
     "text": [
      "The total mass:  0.0009170000000000001 kg\n"
     ]
    }
   ],
   "source": [
    "# from Problem A. \n",
    "delta_t = 10    #units: C\n",
    "pressure = 1    #units: atm\n",
    "density = .917  #units: g/cm3, assuming the general density of ice\n",
    "volume = 1      #units: cm3, cubic centimeter \n",
    "\n",
    "# need mass, from volume and assumed density \n",
    "mass_g = volume * density #units: g/cm3 * cm3 = g \n",
    "mass_kg = mass_g/1000 #units: g / 1000 = kg\n",
    "print('The total mass: ', mass_kg, 'kg') #units: kg"
   ]
  },
  {
   "cell_type": "code",
   "execution_count": 4,
   "id": "2fa720b5-0338-4512-af89-63509d6a6e28",
   "metadata": {},
   "outputs": [
    {
     "name": "stdout",
     "output_type": "stream",
     "text": [
      "For 1 atm:\n",
      "In kJ:\n",
      "Energy to warm the ice to 0C, is  0.019257 KJ + energy to phase change is 0.306278 kJ\n",
      "The Total Energy = 0.325535 kJ\n",
      "In J:\n",
      "Energy to warm the ice to 0C, is  19.257 J + energy to phase change is 306.278 J\n",
      "The Total Energy = 325.535 J\n"
     ]
    }
   ],
   "source": [
    "# First part, energy required to warm the ice from -10 to 0C\n",
    "energy_warm_ice = c_p_ice * delta_t * mass_kg\n",
    "energy_warm_ice #units: kJ\n",
    "\n",
    "# Second part, energy required to melt all of the ice once it's at 0C\n",
    "energy_melt_ice = L_f * mass_kg\n",
    "energy_melt_ice #units: kJ\n",
    "\n",
    "# Total energy \n",
    "energy_total = energy_warm_ice + energy_melt_ice #units: kJ + kJ\n",
    "energy_total #units: kJ\n",
    "\n",
    "print('For 1 atm:')\n",
    "print('In kJ:')\n",
    "print(\"Energy to warm the ice to 0C, is \", energy_warm_ice, \"KJ + energy to phase change is\", energy_melt_ice, \"kJ\")\n",
    "print(\"The Total Energy =\", energy_total, \"kJ\")\n",
    "\n",
    "print('In J:')\n",
    "print(\"Energy to warm the ice to 0C, is \", energy_warm_ice*1000, \"J + energy to phase change is\", energy_melt_ice*1000, \"J\")\n",
    "print(\"The Total Energy =\", energy_total*1000, \"J\")"
   ]
  },
  {
   "cell_type": "markdown",
   "id": "1915934c-37b7-4054-8c15-4fdb5eb1a7e3",
   "metadata": {},
   "source": [
    "### B. Now, consider that same block of ice at -10 degrees C and 1 atm of pressure. Calculate the amount of energy required to sublimate all of the ice. (Note that you do not need to warm the ice to sublimate it.)"
   ]
  },
  {
   "cell_type": "code",
   "execution_count": 5,
   "id": "1b958c6a-acde-4417-a023-7e92c00b44b1",
   "metadata": {},
   "outputs": [
    {
     "name": "stdout",
     "output_type": "stream",
     "text": [
      "For 1 atm:\n",
      "In kJ:\n",
      "Energy to sublimate = 2.37503 kJ\n",
      "In J:\n",
      "Energy to sublimate = 2375.03 J\n"
     ]
    }
   ],
   "source": [
    "energy_sublimate = mass_kg * L_s #units: kg * kJ/kg\n",
    "energy_sublimate # kJ\n",
    "\n",
    "print('For 1 atm:')\n",
    "print('In kJ:')\n",
    "print(\"Energy to sublimate =\", energy_sublimate, \"kJ\")\n",
    "\n",
    "print('In J:')\n",
    "print(\"Energy to sublimate =\", energy_sublimate*1000, \"J\")"
   ]
  },
  {
   "cell_type": "markdown",
   "id": "ffde7d67-de90-4c41-8bb4-dadbe0af5b44",
   "metadata": {},
   "source": [
    "### C. Repeat the calculations above, but imagine you are high in the mountains at 0.5 atm of pressure. What changes?"
   ]
  },
  {
   "cell_type": "markdown",
   "id": "67536817-fa25-4e28-abeb-aa61fa53eb8a",
   "metadata": {},
   "source": [
    "The first law of thermodynamics says that the change in internal energy of a system is equal to the change in energy minus the **work** done to the system. If the **work done by a gas** (i.e., the atmosphere) is reduced, then this reduces the work on the system, and thus, such take less energy to melt the snowpack with less environmental pressure. The same can be said for vaporization. The vapor pressure required to vaporize water at a lower atmospheric pressure is less, thus it should take less energy to vaporize as a whole. \n",
    "\n",
    "* The above constants (latent heat of fusion, vap) are given assuming 1 atm. However, these values are dependent on volume and **pressure**. They should decrease with decreasing atmospheric pressure. \n",
    "\n",
    "Source for reminding myself of thermodynamics: https://webhome.phy.duke.edu/~rgb/Class/phy51/phy51/node59.html\n",
    "\n",
    "Thus, to repeat the calculations above for 0.5 atm in the mountains, we need new values for our constants. "
   ]
  },
  {
   "cell_type": "code",
   "execution_count": 6,
   "id": "f4aee7fb-7f4e-41ef-ac98-f1b5d85db060",
   "metadata": {},
   "outputs": [],
   "source": [
    "# The following are defined at 0.5 atmosphere of pressure.....\n",
    "# latent heat of vaporization for the water-vapor transition (evaporation)\n",
    "L_v_new = 2500.9 #kJ/kg source: https://www.engineeringtoolbox.com/water-properties-d_1573.html?vA=5&units=C#\n",
    "\n",
    "# latent heat of vaporization for the ice-vapor transition (sublimation)\n",
    "L_s_new = L_f + L_v_new #kJ/kg"
   ]
  },
  {
   "cell_type": "code",
   "execution_count": 7,
   "id": "b64f4a39-8507-466c-aa4b-f6200d5e8356",
   "metadata": {},
   "outputs": [
    {
     "name": "stdout",
     "output_type": "stream",
     "text": [
      "For 0.5 atm:\n",
      "In kJ:\n",
      "Energy to warm the ice to 0C, is  0.019257 KJ + energy to phase change is 0.306278 kJ\n",
      "The Total Energy = 0.325535 kJ\n",
      "In J:\n",
      "Energy to warm the ice to 0C, is  19.257 J + energy to phase change is 306.278 J\n",
      "The Total Energy = 325.535 J\n",
      "In kJ:\n",
      "Energy to sublimate = 2.5996033 kJ\n",
      "In J:\n",
      "Energy to sublimate = 2599.6033 J\n"
     ]
    }
   ],
   "source": [
    "#Repeating all the calculations ______________________________________\n",
    "\n",
    "# First part, energy required to warm the ice from -10 to 0C\n",
    "energy_warm_ice = c_p_ice * delta_t * mass_kg\n",
    "energy_warm_ice #units: kJ\n",
    "\n",
    "# Second part, energy required to melt all of the ice once it's at 0C\n",
    "energy_melt_ice = L_f * mass_kg\n",
    "energy_melt_ice #units: kJ\n",
    "\n",
    "# Total energy \n",
    "energy_total = energy_warm_ice + energy_melt_ice #units: kJ + kJ\n",
    "energy_total #units: kJ\n",
    "\n",
    "print('For 0.5 atm:')\n",
    "print('In kJ:')\n",
    "print(\"Energy to warm the ice to 0C, is \", energy_warm_ice, \"KJ + energy to phase change is\", energy_melt_ice, \"kJ\")\n",
    "print(\"The Total Energy =\", energy_total, \"kJ\")\n",
    "\n",
    "print('In J:')\n",
    "print(\"Energy to warm the ice to 0C, is \", energy_warm_ice*1000, \"J + energy to phase change is\", energy_melt_ice*1000, \"J\")\n",
    "print(\"The Total Energy =\", energy_total*1000, \"J\")\n",
    "\n",
    "energy_sublimate_new = mass_kg * L_s_new #units: kg * kJ/kg\n",
    "energy_sublimate_new # kJ\n",
    "\n",
    "print('In kJ:')\n",
    "print(\"Energy to sublimate =\", energy_sublimate_new, \"kJ\")\n",
    "\n",
    "print('In J:')\n",
    "print(\"Energy to sublimate =\", energy_sublimate_new*1000, \"J\")"
   ]
  },
  {
   "cell_type": "code",
   "execution_count": 8,
   "id": "9f1a5ea6-826f-4efa-a193-a0a9aead00f3",
   "metadata": {},
   "outputs": [
    {
     "name": "stdout",
     "output_type": "stream",
     "text": [
      "In kJ:\n",
      "Energy to sublimate at 0.5atm = 2.5996033 kJ\n",
      "Energy to sublimate at 1.0atm = 2.37503 kJ\n"
     ]
    }
   ],
   "source": [
    "print('In kJ:')\n",
    "print(\"Energy to sublimate at 0.5atm =\", energy_sublimate_new, \"kJ\")\n",
    "print(\"Energy to sublimate at 1.0atm =\", energy_sublimate, \"kJ\")"
   ]
  },
  {
   "cell_type": "markdown",
   "id": "9ed6db3f-6679-43c9-9adf-f37c5c26899c",
   "metadata": {},
   "source": [
    "### D. We know that cold snow is primarily a mixture of ice and air. Consider no phase changes and temperatures between -15 degrees and -5 degrees C. Imagine that no interactions occur between the ice and air in the snow matrix. How does the energy required to heat the mixture those 10 degrees change as the fractions of ice vs. air change in the total mixture?"
   ]
  },
  {
   "cell_type": "markdown",
   "id": "ea930b28-c60b-417b-9856-04565181b25d",
   "metadata": {},
   "source": [
    "Cold snow is primarily a mixture of ice and air\n",
    "* Assumptions: consider no phase changes and imagine that no interactions occur between the ice and air in the snow matrix \n",
    "* We are increasing the temperature from -15 degrees to -5 degrees C (delta t is 10)\n",
    "\n",
    "**How does the energy required to heat the mixture change as the fractions of ice vs. air change in the total mixture?** \n",
    "* Create a plot, with fractions of ice vs. air on the x-axis and energy on the y-axis. "
   ]
  },
  {
   "cell_type": "code",
   "execution_count": 9,
   "id": "c8609513-559d-470e-a838-b491b8b967c7",
   "metadata": {},
   "outputs": [],
   "source": [
    "delta_t = 10 \n",
    "df = pd.DataFrame()\n",
    "\n",
    "# % of air in the snowpack from 0 to 100\n",
    "df['snowpack_ice'] = np.arange(0,101)\n",
    "# the % that is air is just what's left over from ice\n",
    "df['snowpack_air'] = 101 - df['snowpack_ice']  \n",
    "\n",
    "df['mass_ice'] = df['snowpack_ice'] * mass_kg\n",
    "df['mass_air'] = df['snowpack_air'] * mass_kg"
   ]
  },
  {
   "cell_type": "code",
   "execution_count": 10,
   "id": "6e2bde35-8df2-461e-9133-f04fbf79b624",
   "metadata": {},
   "outputs": [],
   "source": [
    "df['energy_ice'] = c_p_ice * df['mass_ice'] * delta_t\n",
    "df['energy_air'] = c_p_air * df['mass_air'] * delta_t\n",
    "df['energy_total'] = df['energy_ice'] + df['energy_air']"
   ]
  },
  {
   "cell_type": "code",
   "execution_count": 11,
   "id": "4fc0c2e8-b510-4008-b4da-de6015df8896",
   "metadata": {},
   "outputs": [
    {
     "data": {
      "text/html": [
       "<div>\n",
       "<style scoped>\n",
       "    .dataframe tbody tr th:only-of-type {\n",
       "        vertical-align: middle;\n",
       "    }\n",
       "\n",
       "    .dataframe tbody tr th {\n",
       "        vertical-align: top;\n",
       "    }\n",
       "\n",
       "    .dataframe thead th {\n",
       "        text-align: right;\n",
       "    }\n",
       "</style>\n",
       "<table border=\"1\" class=\"dataframe\">\n",
       "  <thead>\n",
       "    <tr style=\"text-align: right;\">\n",
       "      <th></th>\n",
       "      <th>snowpack_ice</th>\n",
       "      <th>snowpack_air</th>\n",
       "      <th>mass_ice</th>\n",
       "      <th>mass_air</th>\n",
       "      <th>energy_ice</th>\n",
       "      <th>energy_air</th>\n",
       "      <th>energy_total</th>\n",
       "    </tr>\n",
       "  </thead>\n",
       "  <tbody>\n",
       "    <tr>\n",
       "      <th>0</th>\n",
       "      <td>0</td>\n",
       "      <td>101</td>\n",
       "      <td>0.000000</td>\n",
       "      <td>0.092617</td>\n",
       "      <td>0.000000</td>\n",
       "      <td>0.92617</td>\n",
       "      <td>0.926170</td>\n",
       "    </tr>\n",
       "    <tr>\n",
       "      <th>1</th>\n",
       "      <td>1</td>\n",
       "      <td>100</td>\n",
       "      <td>0.000917</td>\n",
       "      <td>0.091700</td>\n",
       "      <td>0.019257</td>\n",
       "      <td>0.91700</td>\n",
       "      <td>0.936257</td>\n",
       "    </tr>\n",
       "    <tr>\n",
       "      <th>2</th>\n",
       "      <td>2</td>\n",
       "      <td>99</td>\n",
       "      <td>0.001834</td>\n",
       "      <td>0.090783</td>\n",
       "      <td>0.038514</td>\n",
       "      <td>0.90783</td>\n",
       "      <td>0.946344</td>\n",
       "    </tr>\n",
       "    <tr>\n",
       "      <th>3</th>\n",
       "      <td>3</td>\n",
       "      <td>98</td>\n",
       "      <td>0.002751</td>\n",
       "      <td>0.089866</td>\n",
       "      <td>0.057771</td>\n",
       "      <td>0.89866</td>\n",
       "      <td>0.956431</td>\n",
       "    </tr>\n",
       "    <tr>\n",
       "      <th>4</th>\n",
       "      <td>4</td>\n",
       "      <td>97</td>\n",
       "      <td>0.003668</td>\n",
       "      <td>0.088949</td>\n",
       "      <td>0.077028</td>\n",
       "      <td>0.88949</td>\n",
       "      <td>0.966518</td>\n",
       "    </tr>\n",
       "  </tbody>\n",
       "</table>\n",
       "</div>"
      ],
      "text/plain": [
       "   snowpack_ice  snowpack_air  mass_ice  mass_air  energy_ice  energy_air  \\\n",
       "0             0           101  0.000000  0.092617    0.000000     0.92617   \n",
       "1             1           100  0.000917  0.091700    0.019257     0.91700   \n",
       "2             2            99  0.001834  0.090783    0.038514     0.90783   \n",
       "3             3            98  0.002751  0.089866    0.057771     0.89866   \n",
       "4             4            97  0.003668  0.088949    0.077028     0.88949   \n",
       "\n",
       "   energy_total  \n",
       "0      0.926170  \n",
       "1      0.936257  \n",
       "2      0.946344  \n",
       "3      0.956431  \n",
       "4      0.966518  "
      ]
     },
     "execution_count": 11,
     "metadata": {},
     "output_type": "execute_result"
    }
   ],
   "source": [
    "df.head()"
   ]
  },
  {
   "cell_type": "code",
   "execution_count": 12,
   "id": "d9eb222a-eeb8-4080-b242-f440c402b2bd",
   "metadata": {},
   "outputs": [
    {
     "data": {
      "text/plain": [
       "Text(0, 0.5, 'energy kJ')"
      ]
     },
     "execution_count": 12,
     "metadata": {},
     "output_type": "execute_result"
    },
    {
     "data": {
      "image/png": "[encoded data removed]",
      "text/plain": [
       "<Figure size 432x288 with 1 Axes>"
      ]
     },
     "metadata": {
      "needs_background": "light"
     },
     "output_type": "display_data"
    }
   ],
   "source": [
    "plt.plot(df.snowpack_ice, df.energy_ice)\n",
    "plt.plot(df.snowpack_ice, df.energy_air)\n",
    "plt.plot(df.snowpack_ice, df.energy_total)\n",
    "\n",
    "plt.legend(['ice', 'air', 'total'])\n",
    "plt.xlabel('% of snowpack ice (vs air)')\n",
    "plt.ylabel('energy kJ')"
   ]
  },
  {
   "cell_type": "markdown",
   "id": "8790a90c-a656-4d9a-bcce-f8d4097ee9fa",
   "metadata": {},
   "source": [
    "### E. I argue that sublimation saves the snowpack more than it reduces it. Why would I say this? Do you agree or disagree? Use the specific and latent heats in lab 1-2 to make your argument."
   ]
  },
  {
   "cell_type": "markdown",
   "id": "c001817e-5258-469d-8d9f-f4e544552344",
   "metadata": {},
   "source": [
    "Sublimation is the **phase change** between the ice to vapor. This phase change requires a lot of energy\n",
    "* You can see from Problem A that the energy to warm the ice was only 18 J compared to the energy to produce a phase change and melt all the ice, was about 300 J\n",
    "* This is also clear from the values for the latent heat of \"sublimation\" which is the latent heat of fusion *ice to water* + the latent heat of vaporization *water to vapor*. \n",
    "\n",
    "When sublimation occurs, there is certainly a loss of solid mass from the snowpack. This is not saving the snowpack. \n",
    "\n",
    "However, there is also a loss of energy from that phase change. This loss of energy translates to a loss of heat which reduces the temperature of the snowpack. If the temperature of the snowpack is reduced, then we are \"saving\" the snowpack by causing it to last longer at a colder temperature (i.e., *increasing delta-t in our equation which requires more energy to melt the snowpack*). "
   ]
  }
 ],
 "metadata": {
  "kernelspec": {
   "display_name": "Python 3 (ipykernel)",
   "language": "python",
   "name": "python3"
  },
  "language_info": {
   "codemirror_mode": {
    "name": "ipython",
    "version": 3
   },
   "file_extension": ".py",
   "mimetype": "text/x-python",
   "name": "python",
   "nbconvert_exporter": "python",
   "pygments_lexer": "ipython3",
   "version": "3.9.7"
  }
 },
 "nbformat": 4,
 "nbformat_minor": 5
}
