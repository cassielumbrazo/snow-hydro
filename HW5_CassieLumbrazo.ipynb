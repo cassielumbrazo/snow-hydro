{
 "cells": [
  {
   "cell_type": "markdown",
   "id": "fff6d1c3-4a91-428e-8caf-4e298f7b92ea",
   "metadata": {},
   "source": [
    "# CEWA 568 Snow Hydrology\n",
    "## Homework #5: *Radiation, Albedo, and the Energy Balance* \n",
    "#### Author: Cassie Lumbrazo"
   ]
  },
  {
   "cell_type": "code",
   "execution_count": null,
   "id": "d3bb426b-8088-445d-acb4-f53432197cbe",
   "metadata": {},
   "outputs": [],
   "source": [
    "#first import the relevant python packages\n",
    "import xarray as xr\n",
    "import numpy as np\n",
    "import os \n",
    "import urllib\n",
    "import pandas as pd\n",
    "import datetime as dt\n",
    "import matplotlib.pyplot as plt\n",
    "\n",
    "import json\n",
    "import pytz\n",
    "\n",
    "import seaborn as sns \n",
    "\n",
    "sns.set_theme()\n",
    "plt.rcParams['figure.figsize'] = [12,6] #overriding size"
   ]
  },
  {
   "cell_type": "code",
   "execution_count": null,
   "id": "ea7ba8d7-851d-4cb2-b290-ad86e01690bf",
   "metadata": {},
   "outputs": [],
   "source": [
    "# We want to install a package called pysolar, and we need pip for the JupyterHub\n",
    "\n",
    "#from pysolar.solar import *\n",
    "!pip install pysolar"
   ]
  },
  {
   "cell_type": "code",
   "execution_count": null,
   "id": "66416fc3-33bc-404e-ac47-93eaafff681b",
   "metadata": {},
   "outputs": [],
   "source": [
    "# Now that we've installed that package, we need to import all of its functions\n",
    "from pysolar.solar import *"
   ]
  },
  {
   "cell_type": "markdown",
   "id": "995a45b2-d262-4ba2-83b9-5c032590a04f",
   "metadata": {
    "tags": []
   },
   "source": [
    "## Get set up from Lab 5-1. "
   ]
  },
  {
   "cell_type": "markdown",
   "id": "c76c7118-9901-4c4f-b9c5-e504359d0533",
   "metadata": {},
   "source": [
    "*Code from lab 5-1. sos-dataset*"
   ]
  },
  {
   "cell_type": "code",
   "execution_count": null,
   "id": "f96af348-8583-4a26-806d-096acf3a788b",
   "metadata": {},
   "outputs": [],
   "source": [
    "sos_ds=xr.open_dataset(\"sos_ds.nc\")\n",
    "sos_ds.head()"
   ]
  },
  {
   "cell_type": "markdown",
   "id": "722dbb77-cb01-4cd9-9ade-1754487c925b",
   "metadata": {},
   "source": [
    "*Code from Lab5-1. radsys*"
   ]
  },
  {
   "cell_type": "code",
   "execution_count": null,
   "id": "c73a21ef-5918-4bb3-8320-eac67c034ff1",
   "metadata": {},
   "outputs": [],
   "source": [
    "radsys_ds=xr.open_dataset(\"radsys_ds.nc\")\n",
    "radsys_ds.head()"
   ]
  },
  {
   "cell_type": "markdown",
   "id": "a7bea989-200e-40d1-ba7b-0910cddbb2e2",
   "metadata": {},
   "source": [
    "*pysolar for potential radiation based on location, but not local topography*"
   ]
  },
  {
   "cell_type": "code",
   "execution_count": null,
   "id": "5d48c556-1fbb-4d24-ab28-0e54818cb241",
   "metadata": {},
   "outputs": [],
   "source": [
    "import pytz\n",
    "kettle_ponds_lat_lon = [-106.97298,38.94182]\n",
    "dates = pd.date_range(dt.datetime(2022,12,28,0,0),dt.datetime(2023,5,10,0,0),  freq='1H') # changed the dates here from the lab\n",
    "\n",
    "clear_sky_rad = []\n",
    "for date in dates:\n",
    "    date = (pytz.utc.localize(date)).to_pydatetime()\n",
    "    altitude_deg = get_altitude(kettle_ponds_lat_lon[1], kettle_ponds_lat_lon[0], date)\n",
    "    clear_sky_rad.append(radiation.get_radiation_direct(date, altitude_deg))"
   ]
  },
  {
   "cell_type": "code",
   "execution_count": null,
   "id": "ca490442-2ea3-4345-aed1-45c9bbdef087",
   "metadata": {},
   "outputs": [],
   "source": [
    "plt.plot(dates,clear_sky_rad)\n",
    "\n",
    "plt.title('pysolar for the entire winter at Kettle Ponds')\n",
    "plt.ylabel(\"Radiation [W/m^2]\")"
   ]
  },
  {
   "cell_type": "code",
   "execution_count": null,
   "id": "7eb11a28-dde7-4471-b362-9e593676a6fd",
   "metadata": {},
   "outputs": [],
   "source": [
    "plt.plot(dates,clear_sky_rad)\n",
    "\n",
    "plt.title('pysolar for just the period in January we will focus on')\n",
    "plt.ylabel(\"Radiation [W/m^2]\")\n",
    "plt.xlim(dt.datetime(2022,12,30), dt.datetime(2023,1,10))"
   ]
  },
  {
   "cell_type": "markdown",
   "id": "bd5fb263-1ef8-4606-8fba-06b5ac93cc18",
   "metadata": {},
   "source": [
    "# Begin Homework # 5"
   ]
  },
  {
   "cell_type": "code",
   "execution_count": null,
   "id": "ad086501-13f2-4e54-af80-42c537cbb78c",
   "metadata": {},
   "outputs": [],
   "source": [
    "!pwd"
   ]
  },
  {
   "cell_type": "code",
   "execution_count": null,
   "id": "4b242dc5-1ded-4bca-a71e-41815e03769f",
   "metadata": {},
   "outputs": [],
   "source": [
    "precip=xr.open_dataset(\"/home/jovyan/Week2/precipitation.nc\")\n",
    "precip.head()"
   ]
  },
  {
   "cell_type": "code",
   "execution_count": null,
   "id": "9da57b8e-69bc-4ffd-93aa-d02be7bbdd2b",
   "metadata": {},
   "outputs": [],
   "source": [
    "# code from Danny to make accum precip, daily precip\n",
    "# First we will plot the precipitation time series to look at when the upward pointing radiometers may be comprimized\n",
    "daily_precip = precip['acc_prec'].diff(dim='date').to_series()\n",
    "daily_precip.index = precip['acc_prec'].diff(dim='date').to_series().index.date"
   ]
  },
  {
   "cell_type": "code",
   "execution_count": null,
   "id": "be4658de-d2c3-4fd4-9e43-c28eec2296a8",
   "metadata": {},
   "outputs": [],
   "source": [
    "type(daily_precip)"
   ]
  },
  {
   "cell_type": "code",
   "execution_count": null,
   "id": "d576c203-e88e-4b74-a66f-7d0a7532b0be",
   "metadata": {},
   "outputs": [],
   "source": [
    "precip['acc_prec'].plot(label='accumulated precip')\n",
    "daily_precip.plot(label='calculated daily value', marker='o', markersize=10, color='blue')\n",
    "\n",
    "plt.legend()\n",
    "plt.title('precip')"
   ]
  },
  {
   "cell_type": "code",
   "execution_count": null,
   "id": "4e422058-30d0-498e-8880-3a0f4d337d5f",
   "metadata": {},
   "outputs": [],
   "source": [
    "precip['acc_prec'].plot(label='accumulated precip')\n",
    "daily_precip.plot(label='calculated daily value', marker='o', markersize=10, color='blue')\n",
    "plt.xlim(dt.datetime(2022,12,30), dt.datetime(2023,1,15))\n",
    "\n",
    "plt.legend()\n",
    "plt.title('precip')"
   ]
  },
  {
   "cell_type": "markdown",
   "id": "0c2f6840-11ca-4113-b046-fac570270321",
   "metadata": {},
   "source": [
    "## Problem 1: Comparing solar radiation sensors\n",
    "**A common problem in mountain snow energy balance studies is that snow accumulates on the upward pointing radiometers. Find a time in our dataset when you think this occurred and explain your reasoning. Hint, you may want to look at the precipitation dataset in Lab 2 for timing. Which radiometer set-up (SOS or SPLASH) worked better during your timeperiod? Why do you think this is? Compare downwelling and reflected shortwave radiation with potential shortwave radiation for your day.**"
   ]
  },
  {
   "cell_type": "code",
   "execution_count": null,
   "id": "c36e5aef-3c24-44ff-84ef-798156ccd595",
   "metadata": {},
   "outputs": [],
   "source": [
    "# putting the clear sky radiation into a dataframe so that I can plot it with everything else more easily\n",
    "clear_rad = pd.DataFrame()\n",
    "clear_rad['dates'] = dates\n",
    "clear_rad['clear_sky_rad'] = clear_sky_rad\n",
    "clear_rad.set_index('dates', inplace=True)\n",
    "\n",
    "clear_df = clear_rad.to_xarray()\n",
    "clear_df"
   ]
  },
  {
   "cell_type": "markdown",
   "id": "4c239d9e-5298-464e-a675-4144d62e36c1",
   "metadata": {
    "tags": []
   },
   "source": [
    "### Looking at Radsys Data\n",
    "* need to find what data to plot\n",
    "* and what data is clean (or need to clean it up a little to look)"
   ]
  },
  {
   "cell_type": "code",
   "execution_count": null,
   "id": "1743f07b-8517-4a2f-8c5b-e3428955dd28",
   "metadata": {},
   "outputs": [],
   "source": [
    "# need to add radsys_ds data \n",
    "radsys_ds.head()"
   ]
  },
  {
   "cell_type": "code",
   "execution_count": null,
   "id": "0cd767e7-930e-4c24-b85b-2558004bc910",
   "metadata": {},
   "outputs": [],
   "source": [
    "radsys_ds.dw_solar.plot(label='dw solar')\n",
    "radsys_ds.dw_solar_qc.plot(label='dw solar qc')\n",
    "radsys_ds.uw_solar.plot(label='uw solar')\n",
    "radsys_ds.uw_solar_qc.plot(label='uw solar qc')\n",
    "radsys_ds.NetSolar.plot(label='net solar')\n",
    "radsys_ds.NetSolar_qc.plot(label='net solar qc')\n",
    "\n",
    "plt.title('radsys data')\n",
    "plt.ylabel(\"Radiation [W/m^2]\")\n",
    "plt.legend()"
   ]
  },
  {
   "cell_type": "code",
   "execution_count": null,
   "id": "de8e9530-eff0-44a9-a508-ab2cf19e2660",
   "metadata": {},
   "outputs": [],
   "source": [
    "radsys_ds.uw_ir.plot(label='dw ir')\n",
    "radsys_ds.uw_ir_qc.plot(label='dw ir qc')\n",
    "\n",
    "radsys_ds.dw_ir.plot(label='uw ir')\n",
    "radsys_ds.dw_ir_qc.plot(label='uw ir qc')\n",
    "\n",
    "plt.title('radsys data')\n",
    "plt.ylabel(\"Radiation [W/m^2]\")\n",
    "plt.legend()"
   ]
  },
  {
   "cell_type": "markdown",
   "id": "e4c48c09-e66a-41a8-b5e7-d7c126e6496b",
   "metadata": {},
   "source": [
    "### Removing negatives from the radsys dataset\n",
    "Even the \"QC\" data has these values? I think they are -9999 for no data. \n",
    "* making those nan to make plotting easier"
   ]
  },
  {
   "cell_type": "code",
   "execution_count": null,
   "id": "cc551813-23c0-49fe-aa81-ddb6eaefb349",
   "metadata": {},
   "outputs": [],
   "source": [
    "# removing all the weird negative values just so I can look\n",
    "clean_dw_solar = radsys_ds.dw_solar.where(radsys_ds.dw_solar > -10)\n",
    "clean_uw_solar = radsys_ds.uw_solar.where(radsys_ds.uw_solar > -10)\n",
    "clean_net_solar = radsys_ds.NetSolar.where(radsys_ds.NetSolar > -10)\n",
    "clean_dw_ir = radsys_ds.dw_ir.where(radsys_ds.dw_ir > -10)\n",
    "clean_uw_ir = radsys_ds.uw_ir.where(radsys_ds.uw_ir > -10)"
   ]
  },
  {
   "cell_type": "code",
   "execution_count": null,
   "id": "6b47fe6c-d2a7-4fa4-931d-d2116d45db8d",
   "metadata": {},
   "outputs": [],
   "source": [
    "clean_dw_solar.plot( label='dw solar  (removed negatives)', linewidth=2, color='gold')\n",
    "clean_uw_solar.plot( label='uw solar  (removed negatives)', linewidth=2, color='orange')\n",
    "clean_net_solar.plot(label='net solar (removed negatives)', linewidth=2, color='grey')\n",
    "\n",
    "clean_dw_ir.plot(label='dw ir (removed negatives)', linewidth=2, color='darkblue')\n",
    "clean_uw_ir.plot(label='uw ir (removed negatives)', linewidth=2, color='blue')\n",
    "\n",
    "plt.title('radsys data')\n",
    "plt.ylabel(\"Radiation [W/m^2]\")\n",
    "plt.legend()"
   ]
  },
  {
   "cell_type": "markdown",
   "id": "6d218cba-0d7b-41e9-86f8-2bf4aa5692e2",
   "metadata": {},
   "source": [
    "*I'm guessign the names,* \n",
    "* **dw ir** means, **d**own**w**welling IR \n",
    "* **uw ir** means, **u**p**w**welling IR "
   ]
  },
  {
   "cell_type": "markdown",
   "id": "0a32c0d9-91b3-4d8a-a4fe-d2e19b5e277a",
   "metadata": {},
   "source": [
    "### Looking at sos data "
   ]
  },
  {
   "cell_type": "code",
   "execution_count": null,
   "id": "66c0fe83-47a1-4f0e-9449-0076d1ed3baf",
   "metadata": {},
   "outputs": [],
   "source": [
    "fig, axes = plt.subplots(2, 1, figsize=(15,8), sharex=True, constrained_layout = True, gridspec_kw={'height_ratios': [2, 1]})\n",
    "\n",
    "# sos data plot\n",
    "sos_ds['Rsw_in_9m_d'].plot(ax=axes[0], label='downward shortwave', linewidth=3, color='gold')\n",
    "sos_ds['Rsw_out_9m_d'].plot(ax=axes[0], label='upward shortwave',linewidth=3, color='orange')\n",
    "sos_ds['LWin'].plot(ax=axes[0], label='downward longwave', linewidth=3, color='royalblue')\n",
    "sos_ds['LWout'].plot(ax=axes[0], label='upward longwave', linewidth=3, color='mediumblue')\n",
    "\n",
    "clear_rad.plot(ax=axes[0], label='clear sky rad', linewidth=1, color='grey')\n",
    "\n",
    "# daily precip\n",
    "daily_precip.plot(ax=axes[1], marker='o', markersize=10, label='precipitation', color='dodgerblue')\n",
    "\n",
    "\n",
    "# legends et al. \n",
    "axes[0].set_title('sos data')\n",
    "axes[0].legend(loc='upper right')\n",
    "axes[0].set_xlabel(\"\")\n",
    "axes[0].set_ylabel(\"Radiation [W/m^2]\")\n",
    "\n",
    "axes[1].legend(loc='upper right')\n",
    "axes[1].set_ylabel(\"Daily Precipitation\")\n",
    "\n",
    "plt.xlim(dt.datetime(2022,12,30), dt.datetime(2023,1,9))\n",
    "plt.show()"
   ]
  },
  {
   "cell_type": "markdown",
   "id": "b413cc4c-1683-4211-8d44-91dcddbdf98c",
   "metadata": {},
   "source": [
    "## Put all the datasets together\n",
    "* sos\n",
    "* radsys\n",
    "* pysolar\n",
    "* precip"
   ]
  },
  {
   "cell_type": "code",
   "execution_count": null,
   "id": "71bc62d6-3d92-4463-852e-1dfd3f869aa7",
   "metadata": {},
   "outputs": [],
   "source": [
    "fig, axes = plt.subplots(3, 1, figsize=(15,10), sharex=True, constrained_layout = True, gridspec_kw={'height_ratios': [2, 2, 1]})\n",
    "\n",
    "# sos data plot\n",
    "sos_ds['Rsw_in_9m_d'].plot(ax=axes[0], label='sosdat: downward shortwave', linewidth=3, color='gold')\n",
    "sos_ds['Rsw_out_9m_d'].plot(ax=axes[0], label='sosdat: upward shortwave',linewidth=3, color='darkgoldenrod')\n",
    "sos_ds['LWin'].plot(ax=axes[0], label='sosdat: downward longwave', linewidth=3, color='cornflowerblue')\n",
    "sos_ds['LWout'].plot(ax=axes[0], label='sosdat: upward longwave', linewidth=3, color='mediumblue')\n",
    "\n",
    "clear_rad.plot(ax=axes[0], label='clear sky rad', linewidth=1, color='grey')\n",
    "\n",
    "\n",
    "# radsys data plot\n",
    "clean_dw_solar.plot(ax=axes[1], label='radsys: downward shortwave', linewidth=3, color='gold')\n",
    "clean_uw_solar.plot(ax=axes[1], label='radsys: upward shortwave', linewidth=3, color='darkgoldenrod')\n",
    "clean_net_solar.plot(ax=axes[1],label='radsys: net solar', linewidth=2, color='black')\n",
    "\n",
    "clean_dw_ir.plot(ax=axes[1],label='radsys: downward longwave', linewidth=3, color='cornflowerblue')\n",
    "clean_uw_ir.plot(ax=axes[1],label='radsys: upward longwave', linewidth=3, color='mediumblue')\n",
    "\n",
    "clear_rad.plot(ax=axes[1], label='pysolar: clear sky rad', linewidth=1, color='grey')\n",
    "\n",
    "\n",
    "# daily precip\n",
    "daily_precip.plot(ax=axes[2], marker='o', markersize=10, label='precipitation', color='deepskyblue')\n",
    "\n",
    "\n",
    "# legends et al. \n",
    "axes[0].set_title('sos data')\n",
    "axes[0].legend(loc='upper right')\n",
    "axes[0].set_xlabel(\"\")\n",
    "axes[0].set_ylabel(\"Radiation [W/m^2]\")\n",
    "\n",
    "axes[1].set_title('radsys data')\n",
    "axes[1].legend(loc='upper right')\n",
    "axes[1].set_xlabel(\"\")\n",
    "axes[1].set_ylabel(\"Radiation [W/m^2]\")\n",
    "\n",
    "axes[2].legend(loc='upper right')\n",
    "axes[2].set_ylabel(\"Daily Precipitation\")\n",
    "\n",
    "plt.xlim(dt.datetime(2022,12,30), dt.datetime(2023,1,9))\n",
    "plt.show()"
   ]
  },
  {
   "cell_type": "markdown",
   "id": "0c53a205-b2ee-43d0-8143-5f4cb7ddce75",
   "metadata": {},
   "source": [
    "### plotting with all shortwave and all longwave on the same plots to better compare sos to radsys"
   ]
  },
  {
   "cell_type": "code",
   "execution_count": null,
   "id": "847d2e3a-733e-4aa3-9fcf-ca5498a620f4",
   "metadata": {},
   "outputs": [],
   "source": [
    "# plotting all shortwave and longwaves together (not by dataset)\n",
    "\n",
    "fig, axes = plt.subplots(3, 1, figsize=(17,12), sharex=True, constrained_layout = True, gridspec_kw={'height_ratios': [2, 2, 1]})\n",
    "\n",
    "# shortwave plot\n",
    "sos_ds['Rsw_in_9m_d'].plot(ax=axes[0], label='sosdat: downward shortwave', linewidth=3, color='gold')\n",
    "sos_ds['Rsw_out_9m_d'].plot(ax=axes[0], label='sosdat: upward shortwave',linewidth=3, color='darkgoldenrod')\n",
    "\n",
    "clean_dw_solar.plot(ax=axes[0], label='radsys: downward shortwave', linewidth=3, color='tomato')\n",
    "clean_uw_solar.plot(ax=axes[0], label='radsys: upward shortwave', linewidth=3, color='darkred')\n",
    "clean_net_solar.plot(ax=axes[0],label='radsys: net solar', linewidth=2, color='black')\n",
    "\n",
    "clear_rad.plot(ax=axes[0], label='clear sky rad', linewidth=1, color='grey')\n",
    "\n",
    "\n",
    "# longwave plot\n",
    "sos_ds['LWin'].plot(ax=axes[1], label='sosdat: downward longwave', linewidth=3, color='cornflowerblue')\n",
    "sos_ds['LWout'].plot(ax=axes[1], label='sosdat: upward longwave', linewidth=3, color='mediumblue')\n",
    "\n",
    "clean_dw_ir.plot(ax=axes[1],label='radsys: downward longwave', linewidth=3, color='darkcyan')\n",
    "clean_uw_ir.plot(ax=axes[1],label='radsys: upward longwave', linewidth=3, color='darkslategrey')\n",
    "\n",
    "\n",
    "# daily precip\n",
    "daily_precip.plot(ax=axes[2], marker='o', markersize=10, label='precipitation', color='deepskyblue')\n",
    "\n",
    "\n",
    "# legends et al. \n",
    "axes[0].set_title('shortwave data')\n",
    "axes[0].legend(loc='upper right')\n",
    "axes[0].set_xlabel(\"\")\n",
    "axes[0].set_ylabel(\"Radiation [W/m^2]\")\n",
    "\n",
    "axes[1].set_title('longwave data')\n",
    "axes[1].legend(loc='upper right')\n",
    "axes[1].set_xlabel(\"\")\n",
    "axes[1].set_ylabel(\"Radiation [W/m^2]\")\n",
    "\n",
    "axes[2].legend(loc='upper right')\n",
    "axes[2].set_ylabel(\"Daily Precipitation\")\n",
    "\n",
    "plt.xlim(dt.datetime(2022,12,30), dt.datetime(2023,1,9))\n",
    "plt.show()"
   ]
  },
  {
   "cell_type": "markdown",
   "id": "b15d2b62-9120-4ea6-b31f-ab4e7c7a46c6",
   "metadata": {},
   "source": [
    "### highlighting then there is snow on the sensors"
   ]
  },
  {
   "cell_type": "code",
   "execution_count": null,
   "id": "aa204602-2626-4fc0-93bd-0d179ac1fb6a",
   "metadata": {},
   "outputs": [],
   "source": [
    "# plotting all shortwave and longwaves together (not by dataset)\n",
    "\n",
    "fig, axes = plt.subplots(3, 1, figsize=(17,12), sharex=True, constrained_layout = True, gridspec_kw={'height_ratios': [2, 2, 1]})\n",
    "\n",
    "# shortwave plot\n",
    "sos_ds['Rsw_in_9m_d'].plot(ax=axes[0], label='sosdat: downward shortwave', linewidth=3, color='gold')\n",
    "sos_ds['Rsw_out_9m_d'].plot(ax=axes[0], label='sosdat: upward shortwave',linewidth=3, color='darkgoldenrod')\n",
    "\n",
    "clean_dw_solar.plot(ax=axes[0], label='radsys: downward shortwave', linewidth=3, color='tomato')\n",
    "clean_uw_solar.plot(ax=axes[0], label='radsys: upward shortwave', linewidth=3, color='darkred')\n",
    "clean_net_solar.plot(ax=axes[0],label='radsys: net solar', linewidth=2, color='black')\n",
    "\n",
    "clear_rad.plot(ax=axes[0], label='clear sky rad', linewidth=1, color='grey')\n",
    "\n",
    "\n",
    "# longwave plot\n",
    "sos_ds['LWin'].plot(ax=axes[1], label='sosdat: downward longwave', linewidth=3, color='cornflowerblue')\n",
    "sos_ds['LWout'].plot(ax=axes[1], label='sosdat: upward longwave', linewidth=3, color='mediumblue')\n",
    "\n",
    "clean_dw_ir.plot(ax=axes[1],label='radsys: downward longwave', linewidth=3, color='darkcyan')\n",
    "clean_uw_ir.plot(ax=axes[1],label='radsys: upward longwave', linewidth=3, color='darkslategrey')\n",
    "\n",
    "\n",
    "# daily precip\n",
    "daily_precip.plot(ax=axes[2], marker='o', markersize=10, label='precipitation', color='deepskyblue')\n",
    "\n",
    "\n",
    "# shade on graph for precipitation event and then snow on the sensor \n",
    "axes[0].axvspan(dt.datetime(2022,12,31), dt.datetime(2023,1,4), alpha=0.3, color='lightblue')\n",
    "axes[0].axvspan(dt.datetime(2023,1,6,12), dt.datetime(2023,1,7), alpha=0.3, color='lightblue')\n",
    "\n",
    "\n",
    "# legends et al. \n",
    "axes[0].set_title('shortwave data')\n",
    "axes[0].legend(loc='upper right')\n",
    "axes[0].set_xlabel(\"\")\n",
    "axes[0].set_ylabel(\"Radiation [W/m^2]\")\n",
    "\n",
    "axes[1].set_title('longwave data')\n",
    "axes[1].legend(loc='upper right')\n",
    "axes[1].set_xlabel(\"\")\n",
    "axes[1].set_ylabel(\"Radiation [W/m^2]\")\n",
    "\n",
    "axes[2].legend(loc='upper right')\n",
    "axes[2].set_ylabel(\"Daily Precipitation\")\n",
    "\n",
    "plt.xlim(dt.datetime(2022,12,30), dt.datetime(2023,1,9))\n",
    "plt.show()"
   ]
  },
  {
   "cell_type": "markdown",
   "id": "990cc7b0-e548-48d8-bead-9a7cc7cd9294",
   "metadata": {},
   "source": [
    "### zooming into the region when there is snow on the sensors"
   ]
  },
  {
   "cell_type": "code",
   "execution_count": null,
   "id": "065f931d-ae28-47de-8f06-70a050370464",
   "metadata": {},
   "outputs": [],
   "source": [
    "# plotting all shortwave and longwaves together (not by dataset)\n",
    "\n",
    "fig, axes = plt.subplots(3, 1, figsize=(17,12), sharex=True, constrained_layout = True, gridspec_kw={'height_ratios': [2, 2, 1]})\n",
    "\n",
    "# shortwave plot\n",
    "sos_ds['Rsw_in_9m_d'].plot(ax=axes[0], label='sosdat: downward shortwave', linewidth=3, color='gold')\n",
    "sos_ds['Rsw_out_9m_d'].plot(ax=axes[0], label='sosdat: upward shortwave',linewidth=3, color='darkgoldenrod')\n",
    "\n",
    "clean_dw_solar.plot(ax=axes[0], label='radsys: downward shortwave', linewidth=3, color='tomato')\n",
    "clean_uw_solar.plot(ax=axes[0], label='radsys: upward shortwave', linewidth=3, color='darkred')\n",
    "clean_net_solar.plot(ax=axes[0],label='radsys: net solar', linewidth=2, color='black')\n",
    "\n",
    "clear_rad.plot(ax=axes[0], label='clear sky rad', linewidth=1, color='grey')\n",
    "\n",
    "\n",
    "# longwave plot\n",
    "sos_ds['LWin'].plot(ax=axes[1], label='sosdat: downward longwave', linewidth=3, color='cornflowerblue')\n",
    "sos_ds['LWout'].plot(ax=axes[1], label='sosdat: upward longwave', linewidth=3, color='mediumblue')\n",
    "\n",
    "clean_dw_ir.plot(ax=axes[1],label='radsys: downward longwave', linewidth=3, color='darkcyan')\n",
    "clean_uw_ir.plot(ax=axes[1],label='radsys: upward longwave', linewidth=3, color='darkslategrey')\n",
    "\n",
    "\n",
    "# daily precip\n",
    "daily_precip.plot(ax=axes[2], marker='o', markersize=10, label='precipitation', color='deepskyblue')\n",
    "\n",
    "\n",
    "# shade on graph for precipitation event and then snow on the sensor \n",
    "axes[0].axvspan(dt.datetime(2022,12,31), dt.datetime(2023,1,4), alpha=0.3, color='lightblue')\n",
    "axes[0].axvspan(dt.datetime(2023,1,6,12), dt.datetime(2023,1,7), alpha=0.3, color='lightblue')\n",
    "\n",
    "axes[1].axvspan(dt.datetime(2022,12,31), dt.datetime(2023,1,4), alpha=0.3, color='lightblue')\n",
    "axes[1].axvspan(dt.datetime(2023,1,6,12), dt.datetime(2023,1,7), alpha=0.3, color='lightblue')\n",
    "\n",
    "axes[2].axvspan(dt.datetime(2022,12,31), dt.datetime(2023,1,4), alpha=0.3, color='lightblue')\n",
    "axes[2].axvspan(dt.datetime(2023,1,6,12), dt.datetime(2023,1,7), alpha=0.3, color='lightblue')\n",
    "\n",
    "\n",
    "# legends et al. \n",
    "axes[0].set_title('shortwave data')\n",
    "axes[0].legend(loc='upper right')\n",
    "axes[0].set_xlabel(\"\")\n",
    "axes[0].set_ylabel(\"Radiation [W/m^2]\")\n",
    "\n",
    "axes[1].set_title('longwave data')\n",
    "axes[1].legend(loc='upper right')\n",
    "axes[1].set_xlabel(\"\")\n",
    "axes[1].set_ylabel(\"Radiation [W/m^2]\")\n",
    "\n",
    "axes[2].legend(loc='upper right')\n",
    "axes[2].set_ylabel(\"Daily Precipitation\")\n",
    "\n",
    "plt.xlim(dt.datetime(2023,1,5), dt.datetime(2023,1,8))\n",
    "plt.show()"
   ]
  },
  {
   "cell_type": "markdown",
   "id": "1d783bed-ff52-4c75-8319-aedb375c8425",
   "metadata": {
    "jp-MarkdownHeadingCollapsed": true,
    "tags": []
   },
   "source": [
    "___________________________\n",
    "## Problem 1: Solution\n",
    "* When snow accumulates on upward pointing radiometers, the values for the upward pointing radiometer will decrease significantly. \n",
    "* This obviously is only going to happen when there is snowfall (precip) and then the values for the radiometer will stay that way until someone goes and cleans the snow off (or it melts) because it has a nice fancy heating system.  \n",
    "\n",
    "Compare downwelling and reflected shortwave radiation with potential shortwave radiation for that day. \n",
    "* When the data shows that there is more downwelling radiation than upwelling radiation, then we have snow on the sensors. There can not physically be more upwelling shortwave radiation than there is incoming shortwave radiation\n",
    "* There are quite a few times during this short period when there is snow on the SOS downwelling shortwave radiation sensor (highlighted in blue on the above plots)\n",
    "* It looks like the SPLASH (radsys) radiometers worked better for this time period. I think they are heated? \n",
    "___________________________"
   ]
  },
  {
   "cell_type": "markdown",
   "id": "9b4bae29-4600-4de9-af5b-87f8dc25016c",
   "metadata": {},
   "source": [
    "## Problem 2: Clouds\n",
    "**Identify a period of variable cloud cover in the dataset. Explain how you can use both shortwave and longwave measurements to identify variations in clouds. include periods from both day and nighttime hours. How are the shortwave and longwave datasets complimentary? Do they tell you the same or different information about the clouds?**"
   ]
  },
  {
   "cell_type": "code",
   "execution_count": null,
   "id": "e4a9eac9-3a91-4efc-b185-e87f9c8dbfde",
   "metadata": {},
   "outputs": [],
   "source": [
    "# plotting all shortwave and longwaves together (not by dataset)\n",
    "\n",
    "fig, axes = plt.subplots(3, 1, figsize=(17,12), sharex=True, constrained_layout = True, gridspec_kw={'height_ratios': [2, 2, 1]})\n",
    "\n",
    "# shortwave plot\n",
    "sos_ds['Rsw_in_9m_d'].plot(ax=axes[0], label='sosdat: downward shortwave', linewidth=3, color='gold')\n",
    "sos_ds['Rsw_out_9m_d'].plot(ax=axes[0], label='sosdat: upward shortwave',linewidth=3, color='darkgoldenrod')\n",
    "\n",
    "clean_dw_solar.plot(ax=axes[0], label='radsys: downward shortwave', linewidth=3, color='tomato')\n",
    "clean_uw_solar.plot(ax=axes[0], label='radsys: upward shortwave', linewidth=3, color='darkred')\n",
    "clean_net_solar.plot(ax=axes[0],label='radsys: net solar', linewidth=2, color='black')\n",
    "\n",
    "clear_rad.plot(ax=axes[0], label='clear sky rad', linewidth=1, color='grey')\n",
    "\n",
    "\n",
    "# longwave plot\n",
    "sos_ds['LWin'].plot(ax=axes[1], label='sosdat: downward longwave', linewidth=3, color='cornflowerblue')\n",
    "sos_ds['LWout'].plot(ax=axes[1], label='sosdat: upward longwave', linewidth=3, color='mediumblue')\n",
    "\n",
    "clean_dw_ir.plot(ax=axes[1],label='radsys: downward longwave', linewidth=3, color='darkcyan')\n",
    "clean_uw_ir.plot(ax=axes[1],label='radsys: upward longwave', linewidth=3, color='darkslategrey')\n",
    "\n",
    "\n",
    "# daily precip\n",
    "daily_precip.plot(ax=axes[2], marker='o', markersize=10, label='precipitation', color='deepskyblue')\n",
    "\n",
    "\n",
    "# shade on graph for period of cloud cover\n",
    "axes[0].axvspan(dt.datetime(2022,12,31,12), dt.datetime(2023,1,2,2), alpha=0.3, color='lightblue')\n",
    "\n",
    "axes[1].axvspan(dt.datetime(2022,12,31,12), dt.datetime(2023,1,2,2), alpha=0.3, color='lightblue')\n",
    "\n",
    "axes[2].axvspan(dt.datetime(2022,12,31,12), dt.datetime(2023,1,2,2), alpha=0.3, color='lightblue')\n",
    "\n",
    "\n",
    "\n",
    "# legends et al. \n",
    "axes[0].set_title('shortwave data')\n",
    "axes[0].legend(loc='upper right')\n",
    "axes[0].set_xlabel(\"\")\n",
    "axes[0].set_ylabel(\"Radiation [W/m^2]\")\n",
    "\n",
    "axes[1].set_title('longwave data')\n",
    "axes[1].legend(loc='upper right')\n",
    "axes[1].set_xlabel(\"\")\n",
    "axes[1].set_ylabel(\"Radiation [W/m^2]\")\n",
    "\n",
    "axes[2].legend(loc='upper right')\n",
    "axes[2].set_ylabel(\"Daily Precipitation\")\n",
    "\n",
    "plt.xlim(dt.datetime(2022,12,30), dt.datetime(2023,1,9))\n",
    "plt.show()"
   ]
  },
  {
   "cell_type": "markdown",
   "id": "c2309fe4-e286-4217-ba11-f361c8bf975c",
   "metadata": {},
   "source": [
    "__________________________\n",
    "## Problem 2: Solution\n",
    "*We want to use downwelling shortwave radiation and downwelling longwave radiation to see clouds.* \n",
    "* Downwelling (incoming) longwave is large when there are clouds (i.e., clouds emit longwave radiation). This occurs day and night. \n",
    "* Downwelling (incoming) shortwave radiation is small when there are clouds (i.e., sun is blocked by clouds). This occurs during the day. \n",
    "\n",
    "They tell you different information about clouds. Downwelling longwave will tell you how much radiation the clouds are emitting, while downwelling shortwave can tell you how much shortwave is either A) directly making it through the clouds or B) being scattered by the clouds. I think Jessica mentioned in class that someone has an instrument at Kettle Ponds that is measuring scattered incoming shortwave vs direct incoming shortwave radiation. This would be a good way to get more information about the clouds as well (at least, during the day). \n",
    "\n",
    "__________________________"
   ]
  },
  {
   "cell_type": "markdown",
   "id": "5b45407d-1853-4a2a-9b16-76ef82278226",
   "metadata": {},
   "source": [
    "## Problem 3: Dust on snow and albedo\n",
    "**We know that the reflectivity of snow, termed albedo, calculated as outgoing-solar-radiation divided by incoming-solar-radiation, is brightest right after new snowfall and then darkens as snow ages. This occurs both as a process of snow grains rounding and growing and as snow gets dirtier with deposition. In early April, a substantial amount of dust was deposited on our site at Kettle Ponds (see the photo at the top of this page). Using the Kettle Ponds radiation dataset, investigate how albedo changes both with time after a new snowfall event earlier in the winter (no dust) and in mid-April (with dust). How much does dust impact albedo compared to the natural snow aging process?**"
   ]
  },
  {
   "cell_type": "code",
   "execution_count": null,
   "id": "23e952e7-fbdf-4a0a-b97b-482cb0172aa9",
   "metadata": {},
   "outputs": [],
   "source": [
    "# create a new dataframe in lab05-1 for the april time period and open it here to save myself all the code inside this notebook to do that \n",
    "sos_ds_april=xr.open_dataset(\"sos_ds_april.nc\")\n",
    "sos_ds_april"
   ]
  },
  {
   "cell_type": "code",
   "execution_count": null,
   "id": "781ab3bc-2ac0-4f57-a8e6-517ed120b33e",
   "metadata": {},
   "outputs": [],
   "source": [
    "# calculate outgoing solar radiation by dividing by incoming solar radiation \n",
    "sos_ds['albedo'] = sos_ds['Rsw_out_9m_d'] / sos_ds['Rsw_in_9m_d']\n",
    "sos_ds_april['albedo'] = sos_ds_april['Rsw_out_9m_d'] / sos_ds_april['Rsw_in_9m_d']"
   ]
  },
  {
   "cell_type": "code",
   "execution_count": null,
   "id": "dbd7f07b-1e5a-47f8-a405-92792481d68d",
   "metadata": {},
   "outputs": [],
   "source": [
    "# # clean the outliers and weird values so we can see on a range from 0 to 1 \n",
    "# sos_ds['albedo'] = sos_ds['albedo'].where(sos_ds['albedo'] >= 0)\n",
    "# sos_ds_april['albedo'] = sos_ds_april['albedo'].where(sos_ds_april['albedo'] >= -1)\n",
    "\n",
    "# sos_ds['albedo'] = sos_ds['albedo'].where(sos_ds['albedo'] <= 1)\n",
    "# sos_ds_april['albedo'] = sos_ds_april['albedo'].where(sos_ds_april['albedo'] <= 3)"
   ]
  },
  {
   "cell_type": "code",
   "execution_count": null,
   "id": "57de1efc-6095-49a5-a4ec-ff59dd225de8",
   "metadata": {},
   "outputs": [],
   "source": [
    "# plotting all shortwave and longwaves together (not by dataset)\n",
    "\n",
    "fig, axes = plt.subplots(3, 1, figsize=(15,10), sharex=True, constrained_layout = True, gridspec_kw={'height_ratios': [2, 2, 1]})\n",
    "\n",
    "# shortwave plot\n",
    "sos_ds['Rsw_in_9m_d'].plot(ax=axes[0], label='sos: downward shortwave', linewidth=3, color='gold')\n",
    "sos_ds['Rsw_out_9m_d'].plot(ax=axes[0], label='sos: upward shortwave',linewidth=3, color='darkgoldenrod')\n",
    "\n",
    "clear_rad.plot(ax=axes[0], label='clear sky rad', linewidth=1, color='grey')\n",
    "\n",
    "# albedo\n",
    "sos_ds['albedo'].plot(ax=axes[1], label='sos: calculated albedo',  marker='o', markersize=5,  color='black', linestyle='')\n",
    "axes[1].set_ylim([0,1])\n",
    "\n",
    "# daily precip\n",
    "daily_precip.plot(ax=axes[2], marker='o', markersize=10, label='precipitation', color='dodgerblue')\n",
    "\n",
    "\n",
    "# legends et al. \n",
    "axes[0].set_title('January: shortwave data \"without dust\"')\n",
    "axes[0].legend(loc='upper right')\n",
    "axes[0].set_xlabel(\"\")\n",
    "axes[0].set_ylabel(\"Radiation [W/m^2]\")\n",
    "\n",
    "axes[1].set_title('January: albedo \"without dust\"')\n",
    "axes[1].legend(loc='upper right')\n",
    "axes[1].set_xlabel(\"\")\n",
    "axes[1].set_ylabel(\"calculated albedo \\n downward shortwave / upward shortwave\")\n",
    "\n",
    "axes[2].legend(loc='upper right')\n",
    "axes[2].set_ylabel(\"Daily Precipitation\")\n",
    "\n",
    "\n",
    "plt.xlim(dt.datetime(2022,12,30), dt.datetime(2023,1,9))\n",
    "plt.show()"
   ]
  },
  {
   "cell_type": "markdown",
   "id": "5fd4356f-efde-4d30-88ed-cf451d1e94ee",
   "metadata": {},
   "source": [
    "### going to try to look at early march into mid-april to compare albedo before and after the dust directly "
   ]
  },
  {
   "cell_type": "code",
   "execution_count": null,
   "id": "9854abc2-edd1-4986-8b78-0f09b1e3811a",
   "metadata": {},
   "outputs": [],
   "source": [
    "fig, axes = plt.subplots(3, 1, figsize=(15,10), sharex=True, constrained_layout = True, gridspec_kw={'height_ratios': [2, 2, 2]})\n",
    "\n",
    "# shortwave plot\n",
    "sos_ds_april['Rsw_in_9m_d'].plot(ax=axes[0], label='sos: downward shortwave', linewidth=3, color='gold')\n",
    "sos_ds_april['Rsw_out_9m_d'].plot(ax=axes[0], label='sos: upward shortwave',linewidth=3, color='darkgoldenrod')\n",
    "\n",
    "clear_rad.plot(ax=axes[0], label='clear sky rad', linewidth=1, color='grey')\n",
    "\n",
    "\n",
    "# longwave plot\n",
    "sos_ds_april['LWin'].plot(ax=axes[1], label='sos: downward longwave (in)', linewidth=3, color='royalblue')\n",
    "sos_ds_april['LWout'].plot(ax=axes[1], label='sos: upward longwave (out)', linewidth=3, color='mediumblue')\n",
    "\n",
    "# albedo\n",
    "sos_ds_april['albedo'].plot(ax=axes[2], label='sos: calculated albedo',  marker='o', markersize=5,  color='black', linestyle='')\n",
    "axes[2].set_ylim([0,1])\n",
    "\n",
    "# # daily precip\n",
    "# daily_precip.plot(ax=axes[3], marker='o', markersize=10, label='precipitation', color='dodgerblue') # precip data doesn't go until April?\n",
    "\n",
    "# shade on graph for precipitation event and then snow on the sensor \n",
    "axes[0].axvspan(dt.datetime(2023,4,4, 12), dt.datetime(2023,4,14), alpha=0.2, color='grey')\n",
    "axes[1].axvspan(dt.datetime(2023,4,4, 12), dt.datetime(2023,4,14), alpha=0.2, color='grey')\n",
    "axes[2].axvspan(dt.datetime(2023,4,4, 12), dt.datetime(2023,4,14), alpha=0.2, color='grey')\n",
    "\n",
    "# legends et al. \n",
    "axes[0].set_title('April: shortwave data without dust vs with dust')\n",
    "axes[0].legend(loc='upper right')\n",
    "axes[0].set_xlabel(\"\")\n",
    "axes[0].set_ylabel(\"Radiation [W/m^2]\")\n",
    "\n",
    "axes[1].set_title('April: longwave data without dust vs with dust')\n",
    "axes[1].legend(loc='upper right')\n",
    "axes[1].set_xlabel(\"\")\n",
    "axes[1].set_ylabel(\"Radiation [W/m^2]\")\n",
    "\n",
    "axes[2].set_title('April: albedo without dust vs with dust')\n",
    "axes[2].legend(loc='upper right')\n",
    "axes[2].set_xlabel(\"\")\n",
    "axes[2].set_ylabel(\"calculated albedo \\n downward shortwave / upward shortwave\")\n",
    "\n",
    "# axes[3].legend(loc='upper right')\n",
    "# axes[3].set_ylabel(\"Daily Precipitation\")\n",
    "\n",
    "plt.xlim(dt.datetime(2023,3,27), dt.datetime(2023,4,19))\n",
    "plt.show()"
   ]
  },
  {
   "cell_type": "code",
   "execution_count": null,
   "id": "eb6224f5-62a6-43c9-b07c-39194da7f158",
   "metadata": {},
   "outputs": [],
   "source": [
    "fig, axes = plt.subplots(2, 1, figsize=(15,10), sharex=True, constrained_layout = True, gridspec_kw={'height_ratios': [1, 3]})\n",
    "\n",
    "# shortwave plot\n",
    "sos_ds_april['Rsw_in_9m_d'].plot(ax=axes[0], label='sos: downward shortwave', linewidth=3, color='gold')\n",
    "sos_ds_april['Rsw_out_9m_d'].plot(ax=axes[0], label='sos: upward shortwave',linewidth=3, color='darkgoldenrod')\n",
    "\n",
    "clear_rad.plot(ax=axes[0], label='clear sky rad', linewidth=1, color='grey')\n",
    "\n",
    "# albedo\n",
    "sos_ds_april['albedo'].plot(ax=axes[1], label='sos: calculated albedo', marker='o', markersize=5,  color='black', linestyle='')\n",
    "\n",
    "\n",
    "# shade on graph for precipitation event and then snow on the sensor \n",
    "axes[0].axvspan(dt.datetime(2023,4,4, 12), dt.datetime(2023,4,14), alpha=0.2, color='grey')\n",
    "axes[1].axvspan(dt.datetime(2023,4,4, 12), dt.datetime(2023,4,14), alpha=0.2, color='grey')\n",
    "\n",
    "# legends et al. \n",
    "axes[0].set_title('April: shortwave data without dust vs with dust')\n",
    "axes[0].legend(loc='upper right')\n",
    "axes[0].set_xlabel(\"\")\n",
    "axes[0].set_ylabel(\"Radiation [W/m^2]\")\n",
    "\n",
    "axes[1].legend(loc='upper right')\n",
    "axes[1].set_xlabel(\"\")\n",
    "axes[1].set_title('April: albedo without dust vs with dust')\n",
    "axes[1].set_ylabel(\"calculated albedo \\n downward shortwave / upward shortwave\")\n",
    "\n",
    "axes[1].set_ylim([0,1])\n",
    "\n",
    "axes[0].set_xlim(dt.datetime(2023,3,27), dt.datetime(2023,4,13,12))\n",
    "axes[1].set_xlim(dt.datetime(2023,3,27), dt.datetime(2023,4,13,12))\n",
    "plt.show()"
   ]
  },
  {
   "cell_type": "markdown",
   "id": "f4ee41fa-7f18-44a0-9059-20cbdfe84b2a",
   "metadata": {},
   "source": [
    "__________________________\n",
    "## Problem 3: Solution\n",
    "* Albedo is brightest right after new snowfall, and then darkens as the snow ages \n",
    "* This is a positive feedback loop when the snow becomes dirty -> albedo decreases -> snow grains increase in size more quickly -> albedo decreases even more. \n",
    "* In early April, a lot of dust was depositied at the Kettle Ponds site. We calculate albedo using outgoing solar radiation / incoming dolar radiation, and see how it changes after the dust storm in April\n",
    "* Just a note: most of the time in April the SOS downwelling shortwave radiation goes over the pysolar radiation. I had this similar thing when using pysolar for my research, it considers lat,lon but it does not consider elevation or topography in the calculation of potential radiation. So perhaps this is the reason? or is there another reason this would happen? \n",
    "\n",
    "**The albedo in late March (without dust) and early-mid April (with dust; *highlighted in grey on plots*)**\n",
    "* The grey shading indicates when there is dust on the snow after the early april event. \n",
    "* I limited the calculated albedo between 0 and 1 since there are some strange values from uncleaned data. \n",
    "* There is certainly a general trend of decreasing albedo during this highlighted period. The general values go from ranging of 1-0.8 to between 0.8 and 0.6. \n",
    "* As we discussed in our energy balance lecture in class, dirty snow impacts the albedo of the snow surface a lot. I cannot remember the numbers right now from the slides (and I can't find the slides) but I think the numbers were ~30% decrease in the albedo compared to fresh snow from the conceptual diagram? A similar (or reduced) magnatude is seen here in our data. \n",
    "__________________________"
   ]
  }
 ],
 "metadata": {
  "kernelspec": {
   "display_name": "Python 3 (ipykernel)",
   "language": "python",
   "name": "python3"
  },
  "language_info": {
   "codemirror_mode": {
    "name": "ipython",
    "version": 3
   },
   "file_extension": ".py",
   "mimetype": "text/x-python",
   "name": "python",
   "nbconvert_exporter": "python",
   "pygments_lexer": "ipython3",
   "version": "3.9.7"
  }
 },
 "nbformat": 4,
 "nbformat_minor": 5
}
